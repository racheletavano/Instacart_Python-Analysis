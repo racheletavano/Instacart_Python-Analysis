{
 "cells": [
  {
   "cell_type": "markdown",
   "id": "f1b68476",
   "metadata": {},
   "source": [
    "# 01. Importing libraries"
   ]
  },
  {
   "cell_type": "code",
   "execution_count": 1,
   "id": "f865e8e6",
   "metadata": {},
   "outputs": [],
   "source": [
    "# Import libraries\n",
    "import pandas as pd\n",
    "import numpy as np\n",
    "import os"
   ]
  },
  {
   "cell_type": "markdown",
   "id": "802b366f",
   "metadata": {},
   "source": [
    "## Data type - Int"
   ]
  },
  {
   "cell_type": "code",
   "execution_count": 7,
   "id": "1286a78f",
   "metadata": {},
   "outputs": [],
   "source": [
    "a = 35"
   ]
  },
  {
   "cell_type": "code",
   "execution_count": 8,
   "id": "55569899",
   "metadata": {},
   "outputs": [],
   "source": [
    "b = 65"
   ]
  },
  {
   "cell_type": "code",
   "execution_count": 9,
   "id": "4420a773",
   "metadata": {},
   "outputs": [],
   "source": [
    "c = a + b"
   ]
  },
  {
   "cell_type": "code",
   "execution_count": 10,
   "id": "ce0e4855",
   "metadata": {},
   "outputs": [
    {
     "data": {
      "text/plain": [
       "100"
      ]
     },
     "execution_count": 10,
     "metadata": {},
     "output_type": "execute_result"
    }
   ],
   "source": [
    "c"
   ]
  },
  {
   "cell_type": "markdown",
   "id": "0675c13e",
   "metadata": {},
   "source": [
    "## Data type - floating"
   ]
  },
  {
   "cell_type": "code",
   "execution_count": 13,
   "id": "9f269e6a",
   "metadata": {},
   "outputs": [],
   "source": [
    "d = 7.5"
   ]
  },
  {
   "cell_type": "code",
   "execution_count": 14,
   "id": "f0234e94",
   "metadata": {},
   "outputs": [],
   "source": [
    "e = 2.6"
   ]
  },
  {
   "cell_type": "code",
   "execution_count": 15,
   "id": "ba1c8492",
   "metadata": {},
   "outputs": [
    {
     "data": {
      "text/plain": [
       "2.8846153846153846"
      ]
     },
     "execution_count": 15,
     "metadata": {},
     "output_type": "execute_result"
    }
   ],
   "source": [
    "d/e"
   ]
  },
  {
   "cell_type": "code",
   "execution_count": 16,
   "id": "96789fcd",
   "metadata": {},
   "outputs": [],
   "source": [
    "f = 'Hello Omar, '"
   ]
  },
  {
   "cell_type": "code",
   "execution_count": 18,
   "id": "c8763624",
   "metadata": {},
   "outputs": [],
   "source": [
    "g = 'Hope you are okay!'"
   ]
  },
  {
   "cell_type": "code",
   "execution_count": 22,
   "id": "176af849",
   "metadata": {},
   "outputs": [
    {
     "data": {
      "text/plain": [
       "'Hello OmarHope you are okay!'"
      ]
     },
     "execution_count": 22,
     "metadata": {},
     "output_type": "execute_result"
    }
   ],
   "source": [
    "f + g"
   ]
  },
  {
   "cell_type": "markdown",
   "id": "c5bb50eb",
   "metadata": {},
   "source": [
    "## Bonus task"
   ]
  },
  {
   "cell_type": "code",
   "execution_count": 23,
   "id": "55bf226c",
   "metadata": {},
   "outputs": [],
   "source": [
    "h = 'Rachele is a 10 '"
   ]
  },
  {
   "cell_type": "code",
   "execution_count": 26,
   "id": "d120eeb2",
   "metadata": {},
   "outputs": [
    {
     "data": {
      "text/plain": [
       "'Rachele is a 10Rachele is a 10Rachele is a 10Rachele is a 10Rachele is a 10Rachele is a 10Rachele is a 10Rachele is a 10Rachele is a 10Rachele is a 10Rachele is a 10Rachele is a 10Rachele is a 10Rachele is a 10Rachele is a 10Rachele is a 10Rachele is a 10Rachele is a 10Rachele is a 10Rachele is a 10Rachele is a 10Rachele is a 10Rachele is a 10Rachele is a 10Rachele is a 10Rachele is a 10Rachele is a 10Rachele is a 10Rachele is a 10Rachele is a 10Rachele is a 10Rachele is a 10Rachele is a 10Rachele is a 10Rachele is a 10Rachele is a 10Rachele is a 10Rachele is a 10Rachele is a 10Rachele is a 10Rachele is a 10Rachele is a 10Rachele is a 10Rachele is a 10Rachele is a 10Rachele is a 10Rachele is a 10Rachele is a 10Rachele is a 10Rachele is a 10Rachele is a 10Rachele is a 10Rachele is a 10Rachele is a 10Rachele is a 10Rachele is a 10Rachele is a 10Rachele is a 10Rachele is a 10Rachele is a 10Rachele is a 10Rachele is a 10Rachele is a 10Rachele is a 10Rachele is a 10Rachele is a 10Rachele is a 10Rachele is a 10Rachele is a 10Rachele is a 10Rachele is a 10Rachele is a 10Rachele is a 10Rachele is a 10Rachele is a 10Rachele is a 10Rachele is a 10Rachele is a 10Rachele is a 10Rachele is a 10Rachele is a 10Rachele is a 10Rachele is a 10Rachele is a 10Rachele is a 10Rachele is a 10Rachele is a 10Rachele is a 10Rachele is a 10Rachele is a 10Rachele is a 10Rachele is a 10Rachele is a 10Rachele is a 10Rachele is a 10Rachele is a 10Rachele is a 10Rachele is a 10Rachele is a 10Rachele is a 10'"
      ]
     },
     "execution_count": 26,
     "metadata": {},
     "output_type": "execute_result"
    }
   ],
   "source": [
    "h * 100"
   ]
  },
  {
   "cell_type": "code",
   "execution_count": null,
   "id": "656f9d74",
   "metadata": {},
   "outputs": [],
   "source": []
  }
 ],
 "metadata": {
  "kernelspec": {
   "display_name": "Python 3 (ipykernel)",
   "language": "python",
   "name": "python3"
  },
  "language_info": {
   "codemirror_mode": {
    "name": "ipython",
    "version": 3
   },
   "file_extension": ".py",
   "mimetype": "text/x-python",
   "name": "python",
   "nbconvert_exporter": "python",
   "pygments_lexer": "ipython3",
   "version": "3.10.9"
  }
 },
 "nbformat": 4,
 "nbformat_minor": 5
}
